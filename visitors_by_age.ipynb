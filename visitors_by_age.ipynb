{
 "cells": [
  {
   "cell_type": "code",
   "execution_count": 1,
   "metadata": {},
   "outputs": [],
   "source": [
    "# Bar Chart visualization to analyse the number of visitors by age for each country.\n",
    "\n",
    "# This Bar Chart analyzes visitor patterns by age for China in 2019 and South Korea in 2021."
   ]
  },
  {
   "cell_type": "code",
   "execution_count": 2,
   "metadata": {},
   "outputs": [],
   "source": [
    "import pandas as pd\n",
    "import plotly.express as px"
   ]
  },
  {
   "cell_type": "code",
   "execution_count": 3,
   "metadata": {},
   "outputs": [],
   "source": [
    "# Load the datasets\n",
    "china_visitors = pd.read_csv('China_cleaned_Visitor_Arrivals_2019_Data.csv')\n",
    "south_korea_age = pd.read_csv('South_Korea_visitor_Arrivalsby_age___by_nationality.csv')"
   ]
  },
  {
   "cell_type": "code",
   "execution_count": 4,
   "metadata": {},
   "outputs": [
    {
     "name": "stdout",
     "output_type": "stream",
     "text": [
      "China Visitors Data Columns:\n",
      "Index(['Item', '2019'], dtype='object')\n",
      "\n",
      "China Visitors Data Sample:\n",
      "           Item     2019\n",
      "0         Total  4911.36\n",
      "1          Male  2881.29\n",
      "2        Female  2030.07\n",
      "3  14 and under   184.92\n",
      "4         15-24   686.20\n",
      "\n",
      "South Korea Visitors by Age Data Columns:\n",
      "Index(['Year', '2021', '2021.1', '2021.2', '2021.3', '2021.4', '2021.5',\n",
      "       '2021.6', '2021.7'],\n",
      "      dtype='object')\n",
      "\n",
      "South Korea Visitors by Age Data Sample:\n",
      "                Year   2021 2021.1 2021.2 2021.3 2021.4 2021.5       2021.6  \\\n",
      "0  By nationality(2)  Total   0-20  21-30  31-40  41-50  51-60  61 and Over   \n",
      "1              Total  90150   5677  14043  12866   8002   6135         3456   \n",
      "2              China  11691    341   1437   1902   1184   1323          669   \n",
      "3              Japan   1007     86    235    173    184    123           58   \n",
      "4             Taiwan    290      7     55     47     28     12           10   \n",
      "\n",
      "  2021.7  \n",
      "0   Crew  \n",
      "1  39971  \n",
      "2   4835  \n",
      "3    148  \n",
      "4    131  \n",
      "China Visitors Data Info:\n",
      "<class 'pandas.core.frame.DataFrame'>\n",
      "RangeIndex: 9 entries, 0 to 8\n",
      "Data columns (total 2 columns):\n",
      " #   Column  Non-Null Count  Dtype  \n",
      "---  ------  --------------  -----  \n",
      " 0   Item    9 non-null      object \n",
      " 1   2019    9 non-null      float64\n",
      "dtypes: float64(1), object(1)\n",
      "memory usage: 276.0+ bytes\n",
      "None\n",
      "\n",
      "South Korea Visitors by Age Data Info:\n",
      "<class 'pandas.core.frame.DataFrame'>\n",
      "RangeIndex: 62 entries, 0 to 61\n",
      "Data columns (total 9 columns):\n",
      " #   Column  Non-Null Count  Dtype \n",
      "---  ------  --------------  ----- \n",
      " 0   Year    62 non-null     object\n",
      " 1   2021    62 non-null     object\n",
      " 2   2021.1  62 non-null     object\n",
      " 3   2021.2  62 non-null     object\n",
      " 4   2021.3  62 non-null     object\n",
      " 5   2021.4  62 non-null     object\n",
      " 6   2021.5  62 non-null     object\n",
      " 7   2021.6  62 non-null     object\n",
      " 8   2021.7  62 non-null     object\n",
      "dtypes: object(9)\n",
      "memory usage: 4.5+ KB\n",
      "None\n"
     ]
    }
   ],
   "source": [
    "# Inspect the columns and the first few rows of each dataset\n",
    "print(\"China Visitors Data Columns:\")\n",
    "print(china_visitors.columns)\n",
    "\n",
    "print(\"\\nChina Visitors Data Sample:\")\n",
    "print(china_visitors.head())\n",
    "\n",
    "print(\"\\nSouth Korea Visitors by Age Data Columns:\")\n",
    "print(south_korea_age.columns)\n",
    "\n",
    "print(\"\\nSouth Korea Visitors by Age Data Sample:\")\n",
    "print(south_korea_age.head())\n",
    "\n",
    "# Check for missing values and data types\n",
    "print(\"China Visitors Data Info:\")\n",
    "print(china_visitors.info())\n",
    "\n",
    "print(\"\\nSouth Korea Visitors by Age Data Info:\")\n",
    "print(south_korea_age.info())"
   ]
  },
  {
   "cell_type": "code",
   "execution_count": 5,
   "metadata": {},
   "outputs": [
    {
     "name": "stdout",
     "output_type": "stream",
     "text": [
      "Standardized China Visitors Data Columns: Index(['item', '2019'], dtype='object')\n",
      "Standardized South Korea Visitors Data Columns: Index(['year', '2021', '2021.1', '2021.2', '2021.3', '2021.4', '2021.5',\n",
      "       '2021.6', '2021.7'],\n",
      "      dtype='object')\n"
     ]
    }
   ],
   "source": [
    "# Standardize column names if necessary\n",
    "china_visitors.columns = china_visitors.columns.str.strip().str.replace(' ', '_').str.lower()\n",
    "south_korea_age.columns = south_korea_age.columns.str.strip().str.replace(' ', '_').str.lower()\n",
    "\n",
    "print(\"Standardized China Visitors Data Columns:\", china_visitors.columns)\n",
    "print(\"Standardized South Korea Visitors Data Columns:\", south_korea_age.columns)"
   ]
  },
  {
   "cell_type": "code",
   "execution_count": 6,
   "metadata": {},
   "outputs": [],
   "source": [
    "# Ensure \"65 and Over\" is included for China\n",
    "if '65 and over' not in china_visitors['item'].values:\n",
    "    china_visitors = pd.concat([china_visitors, pd.DataFrame({'item': ['65 and over'], '2019': [234.77]})], ignore_index=True)"
   ]
  },
  {
   "cell_type": "code",
   "execution_count": 7,
   "metadata": {},
   "outputs": [
    {
     "name": "stdout",
     "output_type": "stream",
     "text": [
      "\n",
      "China Age Summary (Check for '65 and over'):\n",
      "     age_group  number_of_visitors       country\n",
      "9  65 and over              234.77  China (2019)\n"
     ]
    }
   ],
   "source": [
    "# Summarize the age distribution for each dataset\n",
    "# For China Visitors Data\n",
    "china_age_summary = china_visitors[china_visitors['item'].isin(['14 and under', '15-24', '25-44', '45-64', '65 and over'])].copy()\n",
    "china_age_summary.columns = ['age_group', 'number_of_visitors']\n",
    "china_age_summary['country'] = 'China (2019)'\n",
    "\n",
    "# Debug: Check if \"65 and over\" is included\n",
    "print(\"\\nChina Age Summary (Check for '65 and over'):\")\n",
    "print(china_age_summary[china_age_summary['age_group'] == '65 and over'])\n",
    "\n",
    "# For South Korea Visitors by Age Data\n",
    "south_korea_age_summary = south_korea_age[south_korea_age['year'] == 'Total'].copy()\n",
    "south_korea_age_summary = south_korea_age_summary.drop(columns=['2021'])  # Drop the total number"
   ]
  },
  {
   "cell_type": "code",
   "execution_count": 8,
   "metadata": {},
   "outputs": [
    {
     "name": "stdout",
     "output_type": "stream",
     "text": [
      "\n",
      "South Korea Age Summary (Check for '61 and Over'):\n",
      "     age_group             country        year  number_of_visitors\n",
      "5  61 and Over  South Korea (2021)  TotalTotal               43427\n"
     ]
    }
   ],
   "source": [
    "# Melt the DataFrame\n",
    "south_korea_age_summary = south_korea_age_summary.melt(id_vars=['year'], value_vars=['2021.1', '2021.2', '2021.3', '2021.4', '2021.5', '2021.6', '2021.7'],\n",
    "                                                       var_name='age_group', value_name='number_of_visitors')\n",
    "\n",
    "# Define the mapping from South Korea age groups to their original ranges\n",
    "age_group_mapping_sk = {\n",
    "    '2021.1': '0-20',\n",
    "    '2021.2': '21-30',\n",
    "    '2021.3': '31-40',\n",
    "    '2021.4': '41-50',\n",
    "    '2021.5': '51-60',\n",
    "    '2021.6': '61 and Over',\n",
    "    '2021.7': '61 and Over'\n",
    "}\n",
    "\n",
    "# Apply the mapping to South Korea age groups\n",
    "south_korea_age_summary['age_group'] = south_korea_age_summary['age_group'].map(age_group_mapping_sk)\n",
    "south_korea_age_summary['country'] = 'South Korea (2021)'\n",
    "\n",
    "# Convert the number_of_visitors column to numeric\n",
    "south_korea_age_summary['number_of_visitors'] = pd.to_numeric(south_korea_age_summary['number_of_visitors'], errors='coerce')\n",
    "\n",
    "# Correct the \"61 and Over\" values aggregation\n",
    "south_korea_age_summary = south_korea_age_summary.groupby(['age_group', 'country']).sum().reset_index()\n",
    "\n",
    "# Debug: Check if \"61 and Over\" is correctly aggregated\n",
    "print(\"\\nSouth Korea Age Summary (Check for '61 and Over'):\")\n",
    "print(south_korea_age_summary[south_korea_age_summary['age_group'] == '61 and Over'])"
   ]
  },
  {
   "cell_type": "code",
   "execution_count": 9,
   "metadata": {},
   "outputs": [
    {
     "name": "stdout",
     "output_type": "stream",
     "text": [
      "\n",
      "Combined Age Summary after adding missing groups:\n",
      "      age_group  number_of_visitors             country        year\n",
      "3  14 and under              184.92        China (2019)         NaN\n",
      "4         15-24              686.20        China (2019)         NaN\n",
      "5         25-44             2439.71        China (2019)         NaN\n",
      "6         45-64             1365.75        China (2019)         NaN\n",
      "9   65 and over              234.77        China (2019)         NaN\n",
      "0          0-20             5677.00  South Korea (2021)       Total\n",
      "1         21-30            14043.00  South Korea (2021)       Total\n",
      "2         31-40            12866.00  South Korea (2021)       Total\n",
      "3         41-50             8002.00  South Korea (2021)       Total\n",
      "4         51-60             6135.00  South Korea (2021)       Total\n",
      "5   61 and Over            43427.00  South Korea (2021)  TotalTotal\n"
     ]
    }
   ],
   "source": [
    "# Combine the two summaries\n",
    "combined_age_summary = pd.concat([china_age_summary, south_korea_age_summary])\n",
    "\n",
    "# Ensure the age groups are sorted logically for each country\n",
    "china_age_group_order = ['14 and under', '15-24', '25-44', '45-64', '65 and over']\n",
    "south_korea_age_group_order = ['0-20', '21-30', '31-40', '41-50', '51-60', '61 and Over']\n",
    "\n",
    "combined_age_summary['age_group'] = pd.Categorical(combined_age_summary['age_group'], categories=china_age_group_order + south_korea_age_group_order, ordered=True)\n",
    "combined_age_summary = combined_age_summary.sort_values(['country', 'age_group'])\n",
    "\n",
    "# Check for any missing age groups\n",
    "missing_china_ages = set(china_age_group_order) - set(china_age_summary['age_group'])\n",
    "missing_sk_ages = set(south_korea_age_group_order) - set(south_korea_age_summary['age_group'])\n",
    "\n",
    "if missing_china_ages:\n",
    "    for age_group in missing_china_ages:\n",
    "        combined_age_summary = pd.concat([combined_age_summary, pd.DataFrame({'age_group': [age_group], 'number_of_visitors': [0], 'country': ['China (2019)']})])\n",
    "\n",
    "if missing_sk_ages:\n",
    "    for age_group in missing_sk_ages:\n",
    "        combined_age_summary = pd.concat([combined_age_summary, pd.DataFrame({'age_group': [age_group], 'number_of_visitors': [0], 'country': ['South Korea (2021)']})])\n",
    "\n",
    "# Debug: Check the combined age summary for completeness\n",
    "print(\"\\nCombined Age Summary after adding missing groups:\")\n",
    "print(combined_age_summary)"
   ]
  },
  {
   "cell_type": "code",
   "execution_count": 10,
   "metadata": {},
   "outputs": [
    {
     "data": {
      "application/vnd.plotly.v1+json": {
       "config": {
        "plotlyServerURL": "https://plot.ly"
       },
       "data": [
        {
         "alignmentgroup": "True",
         "hovertemplate": "Country=China (2019)<br>Age Group=%{x}<br>Number of Visitors=%{y}<extra></extra>",
         "legendgroup": "China (2019)",
         "marker": {
          "color": "#636efa",
          "pattern": {
           "shape": ""
          }
         },
         "name": "China (2019)",
         "offsetgroup": "China (2019)",
         "orientation": "v",
         "showlegend": true,
         "textposition": "auto",
         "type": "bar",
         "x": [
          "14 and under",
          "15-24",
          "25-44",
          "45-64",
          "65 and over"
         ],
         "xaxis": "x",
         "y": [
          184.92,
          686.2,
          2439.71,
          1365.75,
          234.77
         ],
         "yaxis": "y"
        },
        {
         "alignmentgroup": "True",
         "hovertemplate": "Country=South Korea (2021)<br>Age Group=%{x}<br>Number of Visitors=%{y}<extra></extra>",
         "legendgroup": "South Korea (2021)",
         "marker": {
          "color": "#EF553B",
          "pattern": {
           "shape": ""
          }
         },
         "name": "South Korea (2021)",
         "offsetgroup": "South Korea (2021)",
         "orientation": "v",
         "showlegend": true,
         "textposition": "auto",
         "type": "bar",
         "x": [
          "0-20",
          "21-30",
          "31-40",
          "41-50",
          "51-60",
          "61 and Over"
         ],
         "xaxis": "x",
         "y": [
          5677,
          14043,
          12866,
          8002,
          6135,
          43427
         ],
         "yaxis": "y"
        }
       ],
       "layout": {
        "barmode": "group",
        "legend": {
         "title": {
          "text": "Country"
         },
         "tracegroupgap": 0
        },
        "template": {
         "data": {
          "bar": [
           {
            "error_x": {
             "color": "#2a3f5f"
            },
            "error_y": {
             "color": "#2a3f5f"
            },
            "marker": {
             "line": {
              "color": "#E5ECF6",
              "width": 0.5
             },
             "pattern": {
              "fillmode": "overlay",
              "size": 10,
              "solidity": 0.2
             }
            },
            "type": "bar"
           }
          ],
          "barpolar": [
           {
            "marker": {
             "line": {
              "color": "#E5ECF6",
              "width": 0.5
             },
             "pattern": {
              "fillmode": "overlay",
              "size": 10,
              "solidity": 0.2
             }
            },
            "type": "barpolar"
           }
          ],
          "carpet": [
           {
            "aaxis": {
             "endlinecolor": "#2a3f5f",
             "gridcolor": "white",
             "linecolor": "white",
             "minorgridcolor": "white",
             "startlinecolor": "#2a3f5f"
            },
            "baxis": {
             "endlinecolor": "#2a3f5f",
             "gridcolor": "white",
             "linecolor": "white",
             "minorgridcolor": "white",
             "startlinecolor": "#2a3f5f"
            },
            "type": "carpet"
           }
          ],
          "choropleth": [
           {
            "colorbar": {
             "outlinewidth": 0,
             "ticks": ""
            },
            "type": "choropleth"
           }
          ],
          "contour": [
           {
            "colorbar": {
             "outlinewidth": 0,
             "ticks": ""
            },
            "colorscale": [
             [
              0,
              "#0d0887"
             ],
             [
              0.1111111111111111,
              "#46039f"
             ],
             [
              0.2222222222222222,
              "#7201a8"
             ],
             [
              0.3333333333333333,
              "#9c179e"
             ],
             [
              0.4444444444444444,
              "#bd3786"
             ],
             [
              0.5555555555555556,
              "#d8576b"
             ],
             [
              0.6666666666666666,
              "#ed7953"
             ],
             [
              0.7777777777777778,
              "#fb9f3a"
             ],
             [
              0.8888888888888888,
              "#fdca26"
             ],
             [
              1,
              "#f0f921"
             ]
            ],
            "type": "contour"
           }
          ],
          "contourcarpet": [
           {
            "colorbar": {
             "outlinewidth": 0,
             "ticks": ""
            },
            "type": "contourcarpet"
           }
          ],
          "heatmap": [
           {
            "colorbar": {
             "outlinewidth": 0,
             "ticks": ""
            },
            "colorscale": [
             [
              0,
              "#0d0887"
             ],
             [
              0.1111111111111111,
              "#46039f"
             ],
             [
              0.2222222222222222,
              "#7201a8"
             ],
             [
              0.3333333333333333,
              "#9c179e"
             ],
             [
              0.4444444444444444,
              "#bd3786"
             ],
             [
              0.5555555555555556,
              "#d8576b"
             ],
             [
              0.6666666666666666,
              "#ed7953"
             ],
             [
              0.7777777777777778,
              "#fb9f3a"
             ],
             [
              0.8888888888888888,
              "#fdca26"
             ],
             [
              1,
              "#f0f921"
             ]
            ],
            "type": "heatmap"
           }
          ],
          "heatmapgl": [
           {
            "colorbar": {
             "outlinewidth": 0,
             "ticks": ""
            },
            "colorscale": [
             [
              0,
              "#0d0887"
             ],
             [
              0.1111111111111111,
              "#46039f"
             ],
             [
              0.2222222222222222,
              "#7201a8"
             ],
             [
              0.3333333333333333,
              "#9c179e"
             ],
             [
              0.4444444444444444,
              "#bd3786"
             ],
             [
              0.5555555555555556,
              "#d8576b"
             ],
             [
              0.6666666666666666,
              "#ed7953"
             ],
             [
              0.7777777777777778,
              "#fb9f3a"
             ],
             [
              0.8888888888888888,
              "#fdca26"
             ],
             [
              1,
              "#f0f921"
             ]
            ],
            "type": "heatmapgl"
           }
          ],
          "histogram": [
           {
            "marker": {
             "pattern": {
              "fillmode": "overlay",
              "size": 10,
              "solidity": 0.2
             }
            },
            "type": "histogram"
           }
          ],
          "histogram2d": [
           {
            "colorbar": {
             "outlinewidth": 0,
             "ticks": ""
            },
            "colorscale": [
             [
              0,
              "#0d0887"
             ],
             [
              0.1111111111111111,
              "#46039f"
             ],
             [
              0.2222222222222222,
              "#7201a8"
             ],
             [
              0.3333333333333333,
              "#9c179e"
             ],
             [
              0.4444444444444444,
              "#bd3786"
             ],
             [
              0.5555555555555556,
              "#d8576b"
             ],
             [
              0.6666666666666666,
              "#ed7953"
             ],
             [
              0.7777777777777778,
              "#fb9f3a"
             ],
             [
              0.8888888888888888,
              "#fdca26"
             ],
             [
              1,
              "#f0f921"
             ]
            ],
            "type": "histogram2d"
           }
          ],
          "histogram2dcontour": [
           {
            "colorbar": {
             "outlinewidth": 0,
             "ticks": ""
            },
            "colorscale": [
             [
              0,
              "#0d0887"
             ],
             [
              0.1111111111111111,
              "#46039f"
             ],
             [
              0.2222222222222222,
              "#7201a8"
             ],
             [
              0.3333333333333333,
              "#9c179e"
             ],
             [
              0.4444444444444444,
              "#bd3786"
             ],
             [
              0.5555555555555556,
              "#d8576b"
             ],
             [
              0.6666666666666666,
              "#ed7953"
             ],
             [
              0.7777777777777778,
              "#fb9f3a"
             ],
             [
              0.8888888888888888,
              "#fdca26"
             ],
             [
              1,
              "#f0f921"
             ]
            ],
            "type": "histogram2dcontour"
           }
          ],
          "mesh3d": [
           {
            "colorbar": {
             "outlinewidth": 0,
             "ticks": ""
            },
            "type": "mesh3d"
           }
          ],
          "parcoords": [
           {
            "line": {
             "colorbar": {
              "outlinewidth": 0,
              "ticks": ""
             }
            },
            "type": "parcoords"
           }
          ],
          "pie": [
           {
            "automargin": true,
            "type": "pie"
           }
          ],
          "scatter": [
           {
            "fillpattern": {
             "fillmode": "overlay",
             "size": 10,
             "solidity": 0.2
            },
            "type": "scatter"
           }
          ],
          "scatter3d": [
           {
            "line": {
             "colorbar": {
              "outlinewidth": 0,
              "ticks": ""
             }
            },
            "marker": {
             "colorbar": {
              "outlinewidth": 0,
              "ticks": ""
             }
            },
            "type": "scatter3d"
           }
          ],
          "scattercarpet": [
           {
            "marker": {
             "colorbar": {
              "outlinewidth": 0,
              "ticks": ""
             }
            },
            "type": "scattercarpet"
           }
          ],
          "scattergeo": [
           {
            "marker": {
             "colorbar": {
              "outlinewidth": 0,
              "ticks": ""
             }
            },
            "type": "scattergeo"
           }
          ],
          "scattergl": [
           {
            "marker": {
             "colorbar": {
              "outlinewidth": 0,
              "ticks": ""
             }
            },
            "type": "scattergl"
           }
          ],
          "scattermapbox": [
           {
            "marker": {
             "colorbar": {
              "outlinewidth": 0,
              "ticks": ""
             }
            },
            "type": "scattermapbox"
           }
          ],
          "scatterpolar": [
           {
            "marker": {
             "colorbar": {
              "outlinewidth": 0,
              "ticks": ""
             }
            },
            "type": "scatterpolar"
           }
          ],
          "scatterpolargl": [
           {
            "marker": {
             "colorbar": {
              "outlinewidth": 0,
              "ticks": ""
             }
            },
            "type": "scatterpolargl"
           }
          ],
          "scatterternary": [
           {
            "marker": {
             "colorbar": {
              "outlinewidth": 0,
              "ticks": ""
             }
            },
            "type": "scatterternary"
           }
          ],
          "surface": [
           {
            "colorbar": {
             "outlinewidth": 0,
             "ticks": ""
            },
            "colorscale": [
             [
              0,
              "#0d0887"
             ],
             [
              0.1111111111111111,
              "#46039f"
             ],
             [
              0.2222222222222222,
              "#7201a8"
             ],
             [
              0.3333333333333333,
              "#9c179e"
             ],
             [
              0.4444444444444444,
              "#bd3786"
             ],
             [
              0.5555555555555556,
              "#d8576b"
             ],
             [
              0.6666666666666666,
              "#ed7953"
             ],
             [
              0.7777777777777778,
              "#fb9f3a"
             ],
             [
              0.8888888888888888,
              "#fdca26"
             ],
             [
              1,
              "#f0f921"
             ]
            ],
            "type": "surface"
           }
          ],
          "table": [
           {
            "cells": {
             "fill": {
              "color": "#EBF0F8"
             },
             "line": {
              "color": "white"
             }
            },
            "header": {
             "fill": {
              "color": "#C8D4E3"
             },
             "line": {
              "color": "white"
             }
            },
            "type": "table"
           }
          ]
         },
         "layout": {
          "annotationdefaults": {
           "arrowcolor": "#2a3f5f",
           "arrowhead": 0,
           "arrowwidth": 1
          },
          "autotypenumbers": "strict",
          "coloraxis": {
           "colorbar": {
            "outlinewidth": 0,
            "ticks": ""
           }
          },
          "colorscale": {
           "diverging": [
            [
             0,
             "#8e0152"
            ],
            [
             0.1,
             "#c51b7d"
            ],
            [
             0.2,
             "#de77ae"
            ],
            [
             0.3,
             "#f1b6da"
            ],
            [
             0.4,
             "#fde0ef"
            ],
            [
             0.5,
             "#f7f7f7"
            ],
            [
             0.6,
             "#e6f5d0"
            ],
            [
             0.7,
             "#b8e186"
            ],
            [
             0.8,
             "#7fbc41"
            ],
            [
             0.9,
             "#4d9221"
            ],
            [
             1,
             "#276419"
            ]
           ],
           "sequential": [
            [
             0,
             "#0d0887"
            ],
            [
             0.1111111111111111,
             "#46039f"
            ],
            [
             0.2222222222222222,
             "#7201a8"
            ],
            [
             0.3333333333333333,
             "#9c179e"
            ],
            [
             0.4444444444444444,
             "#bd3786"
            ],
            [
             0.5555555555555556,
             "#d8576b"
            ],
            [
             0.6666666666666666,
             "#ed7953"
            ],
            [
             0.7777777777777778,
             "#fb9f3a"
            ],
            [
             0.8888888888888888,
             "#fdca26"
            ],
            [
             1,
             "#f0f921"
            ]
           ],
           "sequentialminus": [
            [
             0,
             "#0d0887"
            ],
            [
             0.1111111111111111,
             "#46039f"
            ],
            [
             0.2222222222222222,
             "#7201a8"
            ],
            [
             0.3333333333333333,
             "#9c179e"
            ],
            [
             0.4444444444444444,
             "#bd3786"
            ],
            [
             0.5555555555555556,
             "#d8576b"
            ],
            [
             0.6666666666666666,
             "#ed7953"
            ],
            [
             0.7777777777777778,
             "#fb9f3a"
            ],
            [
             0.8888888888888888,
             "#fdca26"
            ],
            [
             1,
             "#f0f921"
            ]
           ]
          },
          "colorway": [
           "#636efa",
           "#EF553B",
           "#00cc96",
           "#ab63fa",
           "#FFA15A",
           "#19d3f3",
           "#FF6692",
           "#B6E880",
           "#FF97FF",
           "#FECB52"
          ],
          "font": {
           "color": "#2a3f5f"
          },
          "geo": {
           "bgcolor": "white",
           "lakecolor": "white",
           "landcolor": "#E5ECF6",
           "showlakes": true,
           "showland": true,
           "subunitcolor": "white"
          },
          "hoverlabel": {
           "align": "left"
          },
          "hovermode": "closest",
          "mapbox": {
           "style": "light"
          },
          "paper_bgcolor": "white",
          "plot_bgcolor": "#E5ECF6",
          "polar": {
           "angularaxis": {
            "gridcolor": "white",
            "linecolor": "white",
            "ticks": ""
           },
           "bgcolor": "#E5ECF6",
           "radialaxis": {
            "gridcolor": "white",
            "linecolor": "white",
            "ticks": ""
           }
          },
          "scene": {
           "xaxis": {
            "backgroundcolor": "#E5ECF6",
            "gridcolor": "white",
            "gridwidth": 2,
            "linecolor": "white",
            "showbackground": true,
            "ticks": "",
            "zerolinecolor": "white"
           },
           "yaxis": {
            "backgroundcolor": "#E5ECF6",
            "gridcolor": "white",
            "gridwidth": 2,
            "linecolor": "white",
            "showbackground": true,
            "ticks": "",
            "zerolinecolor": "white"
           },
           "zaxis": {
            "backgroundcolor": "#E5ECF6",
            "gridcolor": "white",
            "gridwidth": 2,
            "linecolor": "white",
            "showbackground": true,
            "ticks": "",
            "zerolinecolor": "white"
           }
          },
          "shapedefaults": {
           "line": {
            "color": "#2a3f5f"
           }
          },
          "ternary": {
           "aaxis": {
            "gridcolor": "white",
            "linecolor": "white",
            "ticks": ""
           },
           "baxis": {
            "gridcolor": "white",
            "linecolor": "white",
            "ticks": ""
           },
           "bgcolor": "#E5ECF6",
           "caxis": {
            "gridcolor": "white",
            "linecolor": "white",
            "ticks": ""
           }
          },
          "title": {
           "x": 0.05
          },
          "xaxis": {
           "automargin": true,
           "gridcolor": "white",
           "linecolor": "white",
           "ticks": "",
           "title": {
            "standoff": 15
           },
           "zerolinecolor": "white",
           "zerolinewidth": 2
          },
          "yaxis": {
           "automargin": true,
           "gridcolor": "white",
           "linecolor": "white",
           "ticks": "",
           "title": {
            "standoff": 15
           },
           "zerolinecolor": "white",
           "zerolinewidth": 2
          }
         }
        },
        "title": {
         "text": "Visitor Age Distribution for China (2019) and South Korea (2021)",
         "x": 0.5
        },
        "xaxis": {
         "anchor": "y",
         "domain": [
          0,
          1
         ],
         "title": {
          "text": "Age Group"
         }
        },
        "yaxis": {
         "anchor": "x",
         "domain": [
          0,
          1
         ],
         "title": {
          "text": "Number of Visitors"
         }
        }
       }
      }
     },
     "metadata": {},
     "output_type": "display_data"
    }
   ],
   "source": [
    "# Prepare the data for plotting\n",
    "fig = px.bar(combined_age_summary, x='age_group', y='number_of_visitors', color='country', barmode='group',\n",
    "             title='Visitor Age Distribution for China (2019) and South Korea (2021)',\n",
    "             labels={'number_of_visitors': 'Number of Visitors', 'age_group': 'Age Group', 'country': 'Country'})\n",
    "\n",
    "# Add annotations or labels to give context about the years\n",
    "fig.update_layout(\n",
    "    xaxis_title=\"Age Group\",\n",
    "    yaxis_title=\"Number of Visitors\",\n",
    "    legend_title=\"Country\",\n",
    "    title_x=0.5\n",
    ")\n",
    "\n",
    "fig.show()"
   ]
  }
 ],
 "metadata": {
  "kernelspec": {
   "display_name": "base",
   "language": "python",
   "name": "python3"
  },
  "language_info": {
   "codemirror_mode": {
    "name": "ipython",
    "version": 3
   },
   "file_extension": ".py",
   "mimetype": "text/x-python",
   "name": "python",
   "nbconvert_exporter": "python",
   "pygments_lexer": "ipython3",
   "version": "3.12.2"
  }
 },
 "nbformat": 4,
 "nbformat_minor": 2
}
