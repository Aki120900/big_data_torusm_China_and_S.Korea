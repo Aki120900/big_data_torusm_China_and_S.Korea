{
 "cells": [
  {
   "cell_type": "code",
   "execution_count": 1,
   "metadata": {},
   "outputs": [],
   "source": [
    "# Predictive Modeling of Economic Impact of Tourism in China and South Korea"
   ]
  },
  {
   "cell_type": "code",
   "execution_count": 7,
   "metadata": {},
   "outputs": [],
   "source": [
    "import pandas as pd\n",
    "import numpy as np\n",
    "import matplotlib.pyplot as plt\n",
    "from sklearn.model_selection import train_test_split\n",
    "from sklearn.linear_model import LinearRegression\n",
    "from sklearn.metrics import mean_squared_error, r2_score"
   ]
  },
  {
   "cell_type": "code",
   "execution_count": 9,
   "metadata": {},
   "outputs": [
    {
     "name": "stdout",
     "output_type": "stream",
     "text": [
      "                                     Series Name     Series Code Country Name  \\\n",
      "0  International tourism, receipts (current US$)  ST.INT.RCPT.CD  Korea, Rep.   \n",
      "1  International tourism, receipts (current US$)  ST.INT.RCPT.CD        China   \n",
      "\n",
      "  Country Code          1995          1996         1997         1998  \\\n",
      "0          KOR  6.670000e+09  6.350000e+09   6317000000   8263000000   \n",
      "1          CHN           NaN           NaN  12626000000  13229000000   \n",
      "\n",
      "          1999         2000  ...          2011          2012          2013  \\\n",
      "0   8337000000   8527000000  ...  1.732900e+10  1.873100e+10  1.945700e+10   \n",
      "1  15006000000  17318000000  ...           NaN           NaN           NaN   \n",
      "\n",
      "           2014          2015          2016          2017          2018  \\\n",
      "0  2.239000e+10  1.871100e+10  2.092400e+10  1.717300e+10  2.310400e+10   \n",
      "1           NaN           NaN           NaN           NaN           NaN   \n",
      "\n",
      "           2019          2020  \n",
      "0  2.545600e+10  1.177600e+10  \n",
      "1           NaN           NaN  \n",
      "\n",
      "[2 rows x 30 columns]\n"
     ]
    }
   ],
   "source": [
    "# Load the data\n",
    "data = pd.read_csv('predictive_modeling.csv')\n",
    "print(data.head())"
   ]
  },
  {
   "cell_type": "code",
   "execution_count": 10,
   "metadata": {},
   "outputs": [
    {
     "name": "stdout",
     "output_type": "stream",
     "text": [
      "Unique Series Names in the Dataset:\n",
      "['International tourism, receipts (current US$)']\n",
      "  Country Name Country Code                                    Series Name  \\\n",
      "0  Korea, Rep.          KOR  International tourism, receipts (current US$)   \n",
      "1        China          CHN  International tourism, receipts (current US$)   \n",
      "2  Korea, Rep.          KOR  International tourism, receipts (current US$)   \n",
      "3        China          CHN  International tourism, receipts (current US$)   \n",
      "4  Korea, Rep.          KOR  International tourism, receipts (current US$)   \n",
      "\n",
      "      Series Code       year         value  \n",
      "0  ST.INT.RCPT.CD 1995-01-01  6.670000e+09  \n",
      "1  ST.INT.RCPT.CD 1995-01-01           NaN  \n",
      "2  ST.INT.RCPT.CD 1996-01-01  6.350000e+09  \n",
      "3  ST.INT.RCPT.CD 1996-01-01           NaN  \n",
      "4  ST.INT.RCPT.CD 1997-01-01  6.317000e+09  \n"
     ]
    },
    {
     "name": "stderr",
     "output_type": "stream",
     "text": [
      "<>:13: SyntaxWarning: invalid escape sequence '\\d'\n",
      "<>:13: SyntaxWarning: invalid escape sequence '\\d'\n",
      "/var/folders/mr/8fy55g6d1hb_jh6n0jk6_y6c0000gn/T/ipykernel_35219/338890650.py:13: SyntaxWarning: invalid escape sequence '\\d'\n",
      "  data_long['year'] = data_long['year'].str.extract('(\\d{4})')[0]\n"
     ]
    }
   ],
   "source": [
    "# Check for unique series names\n",
    "print(\"Unique Series Names in the Dataset:\")\n",
    "print(data['Series Name'].unique())\n",
    "\n",
    "# Filter for the relevant series\n",
    "data = data[data['Series Name'] == 'International tourism, receipts (current US$)']\n",
    "\n",
    "# Melt the dataframe to long format\n",
    "data_long = pd.melt(data, id_vars=['Country Name', 'Country Code', 'Series Name', 'Series Code'],\n",
    "                    var_name='year', value_name='value')\n",
    "\n",
    "# Extract year from the 'year' column and convert to datetime\n",
    "data_long['year'] = data_long['year'].str.extract('(\\d{4})')[0]\n",
    "data_long['year'] = pd.to_datetime(data_long['year'], format='%Y')\n",
    "print(data_long.head())"
   ]
  },
  {
   "cell_type": "code",
   "execution_count": 11,
   "metadata": {},
   "outputs": [
    {
     "name": "stdout",
     "output_type": "stream",
     "text": [
      "Series Name Country Name Country Code       year  \\\n",
      "0                  China          CHN 1997-01-01   \n",
      "1                  China          CHN 1998-01-01   \n",
      "2                  China          CHN 1999-01-01   \n",
      "3                  China          CHN 2000-01-01   \n",
      "4                  China          CHN 2001-01-01   \n",
      "\n",
      "Series Name  International tourism, receipts (current US$)  \n",
      "0                                             1.262600e+10  \n",
      "1                                             1.322900e+10  \n",
      "2                                             1.500600e+10  \n",
      "3                                             1.731800e+10  \n",
      "4                                             1.900600e+10  \n"
     ]
    },
    {
     "name": "stderr",
     "output_type": "stream",
     "text": [
      "/var/folders/mr/8fy55g6d1hb_jh6n0jk6_y6c0000gn/T/ipykernel_35219/518527875.py:6: FutureWarning: DataFrame.fillna with 'method' is deprecated and will raise in a future version. Use obj.ffill() or obj.bfill() instead.\n",
      "  data_pivot.fillna(method='ffill', inplace=True)\n"
     ]
    }
   ],
   "source": [
    "# Pivot the dataframe\n",
    "data_pivot = data_long.pivot_table(index=['Country Name', 'Country Code', 'year'], \n",
    "                                   columns='Series Name', values='value').reset_index()\n",
    "\n",
    "# Forward fill missing values as an example\n",
    "data_pivot.fillna(method='ffill', inplace=True)\n",
    "print(data_pivot.head())"
   ]
  },
  {
   "cell_type": "code",
   "execution_count": 16,
   "metadata": {},
   "outputs": [
    {
     "name": "stdout",
     "output_type": "stream",
     "text": [
      "Series Name Country Name Country Code  year  \\\n",
      "0                  China          CHN  1997   \n",
      "1                  China          CHN  1998   \n",
      "2                  China          CHN  1999   \n",
      "3                  China          CHN  2000   \n",
      "4                  China          CHN  2001   \n",
      "\n",
      "Series Name  International tourism, receipts (current US$)  \n",
      "0                                             1.262600e+10  \n",
      "1                                             1.322900e+10  \n",
      "2                                             1.500600e+10  \n",
      "3                                             1.731800e+10  \n",
      "4                                             1.900600e+10  \n",
      "Index(['Country Name', 'Country Code', 'year',\n",
      "       'International tourism, receipts (current US$)'],\n",
      "      dtype='object', name='Series Name')\n"
     ]
    }
   ],
   "source": [
    "# Filter for China data and drop missing values\n",
    "china_data = data_pivot[data_pivot['Country Name'] == 'China'].copy()\n",
    "china_data.dropna(inplace=True)\n",
    "china_data['year'] = china_data['year'].dt.year\n",
    "print(china_data.head())\n",
    "print(china_data.columns)  # Print the column names to verify"
   ]
  },
  {
   "cell_type": "code",
   "execution_count": 17,
   "metadata": {},
   "outputs": [],
   "source": [
    "# Define features and target\n",
    "features = ['International tourism, receipts (current US$)']  # Adjusted to match the actual column name\n",
    "target = 'International tourism, receipts (current US$)'  # Adjusted to match the actual column name\n",
    "\n",
    "# Since 'Tourism Receipts' is the only feature and target, we'll use it directly\n",
    "X = china_data[features]\n",
    "y = china_data[target]\n",
    "\n",
    "# Split data into training and test sets\n",
    "X_train, X_test, y_train, y_test = train_test_split(X, y, test_size=0.2, random_state=42)"
   ]
  },
  {
   "cell_type": "code",
   "execution_count": 18,
   "metadata": {},
   "outputs": [],
   "source": [
    "# Train the model\n",
    "model = LinearRegression()\n",
    "model.fit(X_train, y_train)\n",
    "\n",
    "# Make predictions\n",
    "y_pred = model.predict(X_test)"
   ]
  },
  {
   "cell_type": "code",
   "execution_count": 19,
   "metadata": {},
   "outputs": [
    {
     "name": "stdout",
     "output_type": "stream",
     "text": [
      "MSE: 0.0\n",
      "R2: 1.0\n"
     ]
    }
   ],
   "source": [
    "# Evaluate the model\n",
    "mse = mean_squared_error(y_test, y_pred)\n",
    "r2 = r2_score(y_test, y_pred)\n",
    "\n",
    "print(f\"MSE: {mse}\")\n",
    "print(f\"R2: {r2}\")"
   ]
  },
  {
   "cell_type": "code",
   "execution_count": 20,
   "metadata": {},
   "outputs": [
    {
     "data": {
      "image/png": "[encoded data removed]",
      "text/plain": [
       "<Figure size 800x600 with 1 Axes>"
      ]
     },
     "metadata": {},
     "output_type": "display_data"
    }
   ],
   "source": [
    "# Plot actual vs predicted\n",
    "plt.figure(figsize=(8, 6))\n",
    "plt.scatter(y_test, y_pred)\n",
    "plt.xlabel('Actual Tourism Receipts')\n",
    "plt.ylabel('Predicted Tourism Receipts')\n",
    "plt.title('Actual vs Predicted Tourism Receipts')\n",
    "plt.show()"
   ]
  },
  {
   "cell_type": "code",
   "execution_count": 23,
   "metadata": {},
   "outputs": [
    {
     "name": "stdout",
     "output_type": "stream",
     "text": [
      "Future Predictions: [2.7755e+10 2.7755e+10]\n"
     ]
    }
   ],
   "source": [
    "# Make future predictions\n",
    "# Using the last known value as the base for prediction\n",
    "last_known_value = china_data['International tourism, receipts (current US$)'].values[-1]\n",
    "\n",
    "future_years = pd.DataFrame({'International tourism, receipts (current US$)': [last_known_value, last_known_value]})\n",
    "future_predictions = model.predict(future_years)\n",
    "\n",
    "print(f\"Future Predictions: {future_predictions}\")"
   ]
  }
 ],
 "metadata": {
  "kernelspec": {
   "display_name": "base",
   "language": "python",
   "name": "python3"
  },
  "language_info": {
   "codemirror_mode": {
    "name": "ipython",
    "version": 3
   },
   "file_extension": ".py",
   "mimetype": "text/x-python",
   "name": "python",
   "nbconvert_exporter": "python",
   "pygments_lexer": "ipython3",
   "version": "3.12.2"
  }
 },
 "nbformat": 4,
 "nbformat_minor": 2
}
