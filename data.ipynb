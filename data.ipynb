{
 "cells": [
  {
   "cell_type": "code",
   "execution_count": 1,
   "metadata": {},
   "outputs": [],
   "source": [
    "import pandas as pd\n",
    "import pytesseract\n",
    "from PIL import Image\n",
    "import matplotlib.pyplot as plt"
   ]
  },
  {
   "cell_type": "code",
   "execution_count": 2,
   "metadata": {},
   "outputs": [
    {
     "name": "stdout",
     "output_type": "stream",
     "text": [
      "                  Year   2021 2021.1 2021.2 2021.3 2021.4 2021.5       2021.6  \\\n",
      "0    By nationality(2)  Total   0-20  21-30  31-40  41-50  51-60  61 and Over   \n",
      "1                Total  90150   5677  14043  12866   8002   6135         3456   \n",
      "2                China  11691    341   1437   1902   1184   1323          669   \n",
      "3                Japan   1007     86    235    173    184    123           58   \n",
      "4               Taiwan    290      7     55     47     28     12           10   \n",
      "..                 ...    ...    ...    ...    ...    ...    ...          ...   \n",
      "57       Ocean(Others)      6      0      1      0      1      1            0   \n",
      "58  South Africa Union    103      0     42     19      9      2            1   \n",
      "59      Africa(Others)    749     46     84    116     54     25            6   \n",
      "60    Other continents      6      0      0      3      3      0            0   \n",
      "61     Overseas Korean   1042     11    113    136    213    274          295   \n",
      "\n",
      "   2021.7  \n",
      "0    Crew  \n",
      "1   39971  \n",
      "2    4835  \n",
      "3     148  \n",
      "4     131  \n",
      "..    ...  \n",
      "57      3  \n",
      "58     30  \n",
      "59    418  \n",
      "60      0  \n",
      "61      0  \n",
      "\n",
      "[62 rows x 9 columns]\n"
     ]
    }
   ],
   "source": [
    "# Load CSV files\n",
    "age_gender_nationality = pd.read_csv('South_Korea_visitor_Arrivalsby_age___by_nationality.csv', encoding='utf-8')\n",
    "print(age_gender_nationality)"
   ]
  },
  {
   "cell_type": "code",
   "execution_count": 3,
   "metadata": {},
   "outputs": [
    {
     "name": "stdout",
     "output_type": "stream",
     "text": [
      "                  Year   2021 2021.1  2021.2\n",
      "0    By nationality(2)  Total   Male  Female\n",
      "1                Total  90150  32854   17325\n",
      "2                China  11691   4428    2428\n",
      "3                Japan   1007    509     350\n",
      "4               Taiwan    290     81      78\n",
      "..                 ...    ...    ...     ...\n",
      "58       Ocean(Others)      6      0       3\n",
      "59  South Africa Union    103     32      41\n",
      "60      Africa(Others)    749    246      85\n",
      "61           Stateless      6      5       1\n",
      "62     Overseas Korean   1042    453     589\n",
      "\n",
      "[63 rows x 4 columns]\n"
     ]
    }
   ],
   "source": [
    "gender_nationality = pd.read_csv('South_Korea_visitor_Arrivalsby_gender___by_nationality.csv', encoding='utf-8')\n",
    "print(gender_nationality)"
   ]
  },
  {
   "cell_type": "code",
   "execution_count": 4,
   "metadata": {},
   "outputs": [
    {
     "name": "stdout",
     "output_type": "stream",
     "text": [
      "           Year   2016\n",
      "0         Whole  11453\n",
      "1         Japan   4556\n",
      "2         China   1702\n",
      "3        Others   1517\n",
      "4     Australia   1064\n",
      "5        Taiwan    630\n",
      "6      Hongkong    276\n",
      "7        France    274\n",
      "8      Malaysia    263\n",
      "9     Singapore    194\n",
      "10     Thailand    192\n",
      "11       U.S.A.    176\n",
      "12         U.K.    145\n",
      "13       Canada    142\n",
      "14  Russianfed.    133\n",
      "15   Middleeast    100\n",
      "16      Germany     89\n"
     ]
    }
   ],
   "source": [
    "times_visited = pd.read_csv('South_Korea_number_of_Times_Visited_by_Country_of_Residence.csv', encoding='utf-8')\n",
    "print(times_visited)"
   ]
  },
  {
   "cell_type": "code",
   "execution_count": 5,
   "metadata": {},
   "outputs": [
    {
     "name": "stdout",
     "output_type": "stream",
     "text": [
      "17-13 Number of Oversea Visitor Arrivals by Country/Region\n",
      "\n",
      "(10.000 person-times)\n",
      "588.67 1016.04 2025.51 2612.69 2598.54 2813.00\n",
      "338.26 610.15, 1249.99 1617.86 1659.47 1803.70\n",
      "6.64 7.64 12.58 11.64 18.83 21.00\n",
      "4.50 12.09 36.65 4.93 73.08 80.00\n",
      "13.28 22.06 37.76 87.34 54.48 63.40\n",
      "130.52 220.15 339.00 373.12 249.77 259.00\n",
      "25.18 44.10 89.96 124.52 107.55 116.50\n",
      "26.19 39.91 64.20 79.44 101.41 158.10\n",
      "21.97 36.39 65.40 82.83 100.40 113.60\n",
      "26.18 39.94 78.59 100.37 90.63 92.50\n",
      "2.95 134.47 364.63 407.64 444.44 477.50\n",
      "17.33 24.4 58.63 63.88 64.18 75.30\n",
      "4.08 6.56 23.80 46.36 58.02 58.90\n",
      "159.06 248.90 479.14 569.79 491.67 547.20\n",
      "18.49 28.39 49.96 87.0 57.96 59.50\n",
      "16.65 23.91 45.49 60.86 62.34 62.0\n",
      "11.85 18.50 37.20 81.27 48.69 50.40\n",
      "637 178 19.70 22.92 24.61 26.70\n",
      "3.49 7.60 14.58 18.91 18.18 20.00\n",
      "256 2.28 4.38 4m 5.34 5.60\n",
      "3.62 5.36 11.03 18.45 11.84 11.50\n",
      "3.43 3.07 ca 7.43 120 7.30\n",
      "48.93, 108.02 222.39, 237.03 158.23 197.70\n",
      "5.37 8.29 16.05 30.05 34.98 39.00\n",
      "64.36 113.28 198.53 269.49 216.56 299.10\n",
      "12.88 23.66 42.98 68.63 67.98 74.10\n",
      "51.49 89.62 155.55 200.96 208.68 228.00\n",
      "15.85 28.18 57.36 78.93 1164 82.60\n",
      "12.94 23.44 48.30 66.13 63.73 67.60\n",
      "2.29 3.76 7.84 11.61 12.64 13.60\n",
      "\n",
      "1.69 0.68 0.65 0.21 0.21 0.20\n",
      "\n",
      "\n"
     ]
    }
   ],
   "source": [
    "# Load image\n",
    "img_path = 'China_visitors_by_country.jpg'\n",
    "img = Image.open(img_path)\n",
    "\n",
    "# Perform OCR\n",
    "text = pytesseract.image_to_string(img)\n",
    "\n",
    "# Print the extracted text\n",
    "print(text)"
   ]
  },
  {
   "cell_type": "code",
   "execution_count": 6,
   "metadata": {},
   "outputs": [],
   "source": [
    "# Extracted text\n",
    "text = ''' Number of Oversea Visitor Arrivals by Country/Region\n",
    "\n",
    "(10,000 person-times)\n",
    "588.67 1016.04 2025.51 2612.69 2598.54 2813.00\n",
    "338.26 610.15 1249.99 1617.86 1659.47 1803.70\n",
    "6.64 7.64 12.58 11.64 18.83 21.00\n",
    "4.50 12.09 36.65 54.93 73.08 80.00\n",
    "13.28 22.06 37.76 57.34 54.48 63.40\n",
    "130.52 220.15 339.00 373.12 249.77 259.00\n",
    "26.18 44.10 89.96 124.52 107.55 116.50\n",
    "26.19 39.91 64.20 79.44 101.41 158.10\n",
    "21.97 36.39 65.40 82.83 100.40 113.60\n",
    "26.18 39.94 75.59 100.37 90.63 92.50\n",
    "52.95 134.47 354.63 407.64 444.44 477.50\n",
    "17.33 24.11 58.63 63.85 64.18 75.30\n",
    "4.08 6.56 23.80 46.36 58.02 58.90\n",
    "159.06 248.90 479.14 569.79 491.67 547.20\n",
    "18.49 28.39 49.96 57.50 57.96 59.50\n",
    "16.65 23.91 45.49 60.86 62.34 62.50\n",
    "11.85 18.50 37.20 51.27 48.69 50.40\n",
    "6.37 7.78 19.70 22.92 24.61 26.70\n",
    "3.49 7.60 14.58 18.91 18.18 20.00\n",
    "2.56 2.28 4.38 4.77 5.34 5.50\n",
    "3.62 5.36 11.03 15.45 11.84 11.50\n",
    "3.43 3.07 5.14 7.43 7.27 7.30\n",
    "48.93 108.02 222.39 237.03 158.23 197.70\n",
    "5.37 8.29 16.05 30.05 34.98 39.00\n",
    "64.36 113.28 198.53 269.49 276.56 299.10\n",
    "12.88 23.66 42.98 68.63 67.98 74.10\n",
    "51.49 89.62 155.55 200.96 208.68 226.00\n",
    "15.85 28.18 57.36 78.93 77.64 82.60\n",
    "12.94 23.41 48.30 66.13 63.73 67.70\n",
    "2.29 3.76 7.84 11.61 12.54 13.60\n",
    "\n",
    "1.69 0.68 0.65 0.21 0.21 0.20\n",
    "'''\n",
    "\n",
    "# Split text into lines\n",
    "lines = text.split('\\n')\n",
    "\n",
    "# Extract region names and 2016 data\n",
    "regions = [\n",
    "    \"Total\", \"Asia\", \"Korea, D.P. Rep.\", \"India\", \"Indonesia\", \"Japan\", \"Malaysia\",\n",
    "    \"Mongolia\", \"Philippines\", \"Singapore\", \"Republic of Korea\", \"Thailand\", \"Africa\",\n",
    "    \"Europe\", \"United Kingdom\", \"Germany\", \"France\", \"Italy\", \"Netherlands\", \"Portugal\",\n",
    "    \"Sweden\", \"Switzerland\", \"Russia\", \"Latin America\", \"North America\", \"Canada\",\n",
    "    \"United States\", \"Oceanic and Pacific Islands\", \"Australia\", \"New Zealand\", \"Others\"\n",
    "]\n",
    "\n",
    "# Initialize empty lists to hold cleaned data\n",
    "cleaned_data = []\n",
    "\n",
    "# Iterate through the lines and extract relevant data\n",
    "for region, line in zip(regions, lines[3:]):\n",
    "    # Split line into year data\n",
    "    year_data = line.split()\n",
    "    if len(year_data) >= 6:\n",
    "        # Extract 2016 data (last value in the line)\n",
    "        cleaned_data.append([region, year_data[-1]])\n",
    "\n",
    "# Create a DataFrame\n",
    "df = pd.DataFrame(cleaned_data, columns=[\"Region\", \"2016\"])\n",
    "\n",
    "# Display the cleaned DataFrame\n",
    "df.head()\n",
    "\n",
    "# Save the cleaned data to a CSV file\n",
    "df.to_csv('China_cleaned_region_arrivals_Data.csv', index=False)"
   ]
  },
  {
   "cell_type": "code",
   "execution_count": 7,
   "metadata": {},
   "outputs": [
    {
     "name": "stdout",
     "output_type": "stream",
     "text": [
      "                         Region    2016\n",
      "0                         Total  2813.0\n",
      "1                          Asia  1803.7\n",
      "2              Korea, D.P. Rep.    21.0\n",
      "3                         India    80.0\n",
      "4                     Indonesia    63.4\n",
      "5                         Japan   259.0\n",
      "6                      Malaysia   116.5\n",
      "7                      Mongolia   158.1\n",
      "8                   Philippines   113.6\n",
      "9                     Singapore    92.5\n",
      "10            Republic of Korea   477.5\n",
      "11                     Thailand    75.3\n",
      "12                       Africa    58.9\n",
      "13                       Europe   547.2\n",
      "14               United Kingdom    59.5\n",
      "15                      Germany    62.5\n",
      "16                       France    50.4\n",
      "17                        Italy    26.7\n",
      "18                  Netherlands    20.0\n",
      "19                     Portugal     5.5\n",
      "20                       Sweden    11.5\n",
      "21                  Switzerland     7.3\n",
      "22                       Russia   197.7\n",
      "23                Latin America    39.0\n",
      "24                North America   299.1\n",
      "25                       Canada    74.1\n",
      "26                United States   226.0\n",
      "27  Oceanic and Pacific Islands    82.6\n",
      "28                    Australia    67.7\n",
      "29                  New Zealand    13.6\n"
     ]
    }
   ],
   "source": [
    "# Load CSV files\n",
    "visitor_arrivals_china = pd.read_csv('China_cleaned_region_arrivals_Data.csv', encoding='utf-8')\n",
    "print(visitor_arrivals_china)"
   ]
  },
  {
   "cell_type": "code",
   "execution_count": 8,
   "metadata": {},
   "outputs": [
    {
     "name": "stdout",
     "output_type": "stream",
     "text": [
      "17-12 Number of Overseas Visitor Arrivals by Gender, Age and Purpose\n",
      "\n",
      "4795.11 100.0 4911.36 100.0\n",
      "2859.71 59.6 2881.29 587\n",
      "1936.39 40.4 2030.07 413\n",
      "161.18 34 184.92 38\n",
      "656.71 187 686.20 14.0\n",
      "2394.69 49.9 2439.71 497\n",
      "1363.24 28.4 1365.75 278\n",
      "219.28 46 234.77 48\n",
      "614.70 128 628.47 128\n",
      "1608.57 335 1740.31 364\n",
      "132.24 28 143.17 29\n",
      "744.86 185 714.01 145\n",
      "1694.74 363 1685.40 343\n",
      "\n",
      "a) Visitor amrivals include amrivals of population inhabitating in border areas to China,\n",
      "\n"
     ]
    }
   ],
   "source": [
    "img_path = 'China_visitors_number.jpg'\n",
    "img = Image.open(img_path)\n",
    "\n",
    "text = pytesseract.image_to_string(img)\n",
    "\n",
    "print(text)"
   ]
  },
  {
   "cell_type": "code",
   "execution_count": 9,
   "metadata": {},
   "outputs": [
    {
     "data": {
      "text/html": [
       "<div>\n",
       "<style scoped>\n",
       "    .dataframe tbody tr th:only-of-type {\n",
       "        vertical-align: middle;\n",
       "    }\n",
       "\n",
       "    .dataframe tbody tr th {\n",
       "        vertical-align: top;\n",
       "    }\n",
       "\n",
       "    .dataframe thead th {\n",
       "        text-align: right;\n",
       "    }\n",
       "</style>\n",
       "<table border=\"1\" class=\"dataframe\">\n",
       "  <thead>\n",
       "    <tr style=\"text-align: right;\">\n",
       "      <th></th>\n",
       "      <th>Item</th>\n",
       "      <th>2019</th>\n",
       "    </tr>\n",
       "  </thead>\n",
       "  <tbody>\n",
       "    <tr>\n",
       "      <th>0</th>\n",
       "      <td>Total</td>\n",
       "      <td>4911.36</td>\n",
       "    </tr>\n",
       "    <tr>\n",
       "      <th>1</th>\n",
       "      <td>Male</td>\n",
       "      <td>2881.29</td>\n",
       "    </tr>\n",
       "    <tr>\n",
       "      <th>2</th>\n",
       "      <td>Female</td>\n",
       "      <td>2030.07</td>\n",
       "    </tr>\n",
       "    <tr>\n",
       "      <th>3</th>\n",
       "      <td>14 and under</td>\n",
       "      <td>184.92</td>\n",
       "    </tr>\n",
       "    <tr>\n",
       "      <th>4</th>\n",
       "      <td>15-24</td>\n",
       "      <td>686.20</td>\n",
       "    </tr>\n",
       "  </tbody>\n",
       "</table>\n",
       "</div>"
      ],
      "text/plain": [
       "           Item     2019\n",
       "0         Total  4911.36\n",
       "1          Male  2881.29\n",
       "2        Female  2030.07\n",
       "3  14 and under   184.92\n",
       "4         15-24   686.20"
      ]
     },
     "execution_count": 9,
     "metadata": {},
     "output_type": "execute_result"
    }
   ],
   "source": [
    "text = '''Number of Overseas Visitor Arrivals by Gender, Age and Purpose\n",
    "\n",
    "4911.36\n",
    "\n",
    "2881.29\n",
    "2030.07\n",
    "\n",
    "184.92\n",
    "686.20\n",
    "2439.71\n",
    "1365.75\n",
    "234.77\n",
    "\n",
    "714.01\n",
    "'''\n",
    "\n",
    "# Split text into lines\n",
    "lines = text.split('\\n')\n",
    "\n",
    "# Define the items of interest and their order\n",
    "items = [\n",
    "    \"Total\", \"Male\", \"Female\", \"14 and under\", \"15-24\", \"25-44\", \"45-64\", \"65 and Over\", \"Worker and Crew\"\n",
    "]\n",
    "\n",
    "# Extract relevant lines and match them to the items\n",
    "data_lines = [line for line in lines if line.replace('.', '', 1).isdigit()]\n",
    "cleaned_data = [[item, data] for item, data in zip(items, data_lines)]\n",
    "\n",
    "# Create a DataFrame\n",
    "df = pd.DataFrame(cleaned_data, columns=[\"Item\", \"2019\"])\n",
    "\n",
    "# Display the cleaned DataFrame\n",
    "df.head()\n",
    "\n",
    "# Save the cleaned data to a CSV file\n",
    "df.to_csv('China_cleaned_Visitor_Arrivals_2019_Data.csv', index=False)\n",
    "\n",
    "df.head()"
   ]
  },
  {
   "cell_type": "code",
   "execution_count": 10,
   "metadata": {},
   "outputs": [
    {
     "name": "stdout",
     "output_type": "stream",
     "text": [
      "              Item     2019\n",
      "0            Total  4911.36\n",
      "1             Male  2881.29\n",
      "2           Female  2030.07\n",
      "3     14 and under   184.92\n",
      "4            15-24   686.20\n",
      "5            25-44  2439.71\n",
      "6            45-64  1365.75\n",
      "7      65 and Over   234.77\n",
      "8  Worker and Crew   714.01\n"
     ]
    }
   ],
   "source": [
    "# Load CSV files\n",
    "china_2019_visitors_by_agegender = pd.read_csv('China_cleaned_Visitor_Arrivals_2019_Data.csv', encoding='utf-8')\n",
    "print(china_2019_visitors_by_agegender)"
   ]
  }
 ],
 "metadata": {
  "kernelspec": {
   "display_name": "base",
   "language": "python",
   "name": "python3"
  },
  "language_info": {
   "codemirror_mode": {
    "name": "ipython",
    "version": 3
   },
   "file_extension": ".py",
   "mimetype": "text/x-python",
   "name": "python",
   "nbconvert_exporter": "python",
   "pygments_lexer": "ipython3",
   "version": "3.12.2"
  }
 },
 "nbformat": 4,
 "nbformat_minor": 2
}
